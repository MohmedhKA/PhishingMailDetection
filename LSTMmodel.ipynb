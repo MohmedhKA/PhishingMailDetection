{
 "cells": [
  {
   "cell_type": "code",
   "execution_count": 7,
   "id": "918b0eac-f7a2-4742-94fc-80aa34a61d05",
   "metadata": {},
   "outputs": [],
   "source": [
    "import os\n",
    "import re\n",
    "import numpy as np\n",
    "import pandas as pd\n",
    "import tensorflow as tf\n",
    "from tensorflow.keras.preprocessing.text import Tokenizer\n",
    "from tensorflow.keras.preprocessing.sequence import pad_sequences\n",
    "from tensorflow.keras.models import Sequential\n",
    "from tensorflow.keras.layers import Embedding, LSTM, Dense, Dropout\n",
    "from sklearn.model_selection import train_test_split\n",
    "from sklearn.metrics import accuracy_score, classification_report\n",
    "import matplotlib.pyplot as plt"
   ]
  },
  {
   "cell_type": "code",
   "execution_count": 8,
   "id": "aeffdcaf-9ef0-420a-a77c-dac0cd3af420",
   "metadata": {},
   "outputs": [],
   "source": [
    "base_dir = \"DataSet\"  # Replace with the actual path to your enron_spam folder\n",
    "enron_folders = [\n",
    "    os.path.join(base_dir, f\"enron{i}\") for i in range(1, 7)\n",
    "]"
   ]
  },
  {
   "cell_type": "code",
   "execution_count": 9,
   "id": "316215ed-b8ad-414c-9396-7ad8c5f95249",
   "metadata": {},
   "outputs": [],
   "source": [
    "def load_and_preprocess_data(folders):\n",
    "    data = []\n",
    "    for folder in folders:\n",
    "        for label_type in [\"ham\", \"spam\"]:\n",
    "            label = 0 if label_type == \"ham\" else 1\n",
    "            label_dir = os.path.join(folder, label_type)\n",
    "            for filename in os.listdir(label_dir):\n",
    "                try:\n",
    "                    with open(os.path.join(label_dir, filename), \"r\", encoding=\"latin-1\") as file:\n",
    "                        content = file.read()\n",
    "                        content = re.sub('<[^<]+?>', '', content)\n",
    "                        content = re.sub(r'\\n+', ' ', content)\n",
    "                        content = content.strip()\n",
    "                        data.append([content, label])\n",
    "                except Exception as e:\n",
    "                    print(f\"Error reading {filename}: {e}\")\n",
    "    df = pd.DataFrame(data, columns=[\"text\", \"label\"])\n",
    "    return df"
   ]
  },
  {
   "cell_type": "code",
   "execution_count": null,
   "id": "17066b5f-648e-4b96-be14-aa3c661e8f50",
   "metadata": {},
   "outputs": [],
   "source": [
    "df = load_and_preprocess_data(enron_folders)"
   ]
  },
  {
   "cell_type": "code",
   "execution_count": 8,
   "id": "c7cb3b67-198e-47cc-854d-41416211f9e4",
   "metadata": {},
   "outputs": [],
   "source": [
    "MAX_WORDS = 10000  # Maximum number of words to keep in the vocabulary\n",
    "tokenizer = Tokenizer(num_words=MAX_WORDS, oov_token=\"<unk>\")\n",
    "tokenizer.fit_on_texts(df['text'])"
   ]
  },
  {
   "cell_type": "code",
   "execution_count": 9,
   "id": "e485d822-c467-4da1-ade0-e9d52b55594b",
   "metadata": {},
   "outputs": [],
   "source": [
    "sequences = tokenizer.texts_to_sequences(df['text'])"
   ]
  },
  {
   "cell_type": "code",
   "execution_count": 10,
   "id": "8d13d0fe-55c7-421f-becb-d042e0d65eae",
   "metadata": {},
   "outputs": [],
   "source": [
    "MAX_LEN = 128  # Maximum length of the sequences after padding\n",
    "padded_sequences = pad_sequences(sequences, maxlen=MAX_LEN, padding='post', truncating='post')\n",
    "labels = np.array(df['label'])"
   ]
  },
  {
   "cell_type": "code",
   "execution_count": 11,
   "id": "c69c5311-84d6-4efb-be3d-ff032045ae17",
   "metadata": {},
   "outputs": [],
   "source": [
    "X_train, X_val, y_train, y_val = train_test_split(\n",
    "    padded_sequences, labels, test_size=0.2, random_state=42\n",
    ")"
   ]
  },
  {
   "cell_type": "code",
   "execution_count": 12,
   "id": "9f140a30-c677-442b-aead-0c7a9f92871d",
   "metadata": {},
   "outputs": [
    {
     "name": "stdout",
     "output_type": "stream",
     "text": [
      "Model: \"sequential\"\n",
      "_________________________________________________________________\n",
      " Layer (type)                Output Shape              Param #   \n",
      "=================================================================\n",
      " embedding (Embedding)       (None, 128, 100)          1000000   \n",
      "                                                                 \n",
      " lstm (LSTM)                 (None, 128, 64)           42240     \n",
      "                                                                 \n",
      " lstm_1 (LSTM)               (None, 64)                33024     \n",
      "                                                                 \n",
      " dropout (Dropout)           (None, 64)                0         \n",
      "                                                                 \n",
      " dense (Dense)               (None, 1)                 65        \n",
      "                                                                 \n",
      "=================================================================\n",
      "Total params: 1,075,329\n",
      "Trainable params: 1,075,329\n",
      "Non-trainable params: 0\n",
      "_________________________________________________________________\n"
     ]
    }
   ],
   "source": [
    "EMBEDDING_DIM = 100\n",
    "LSTM_UNITS = 64\n",
    "\n",
    "model = Sequential([\n",
    "    Embedding(MAX_WORDS, EMBEDDING_DIM, input_length=MAX_LEN),\n",
    "    LSTM(LSTM_UNITS, return_sequences=True), # Return sequences to stack another LSTM if needed\n",
    "    LSTM(LSTM_UNITS),\n",
    "    Dropout(0.5),\n",
    "    Dense(1, activation='sigmoid')\n",
    "])\n",
    "\n",
    "model.compile(optimizer='adam',\n",
    "              loss='binary_crossentropy',\n",
    "              metrics=['accuracy'])\n",
    "\n",
    "model.summary()"
   ]
  },
  {
   "cell_type": "code",
   "execution_count": 15,
   "id": "85dad8b6-6b92-4e5a-8e6b-b0fe42f37b9a",
   "metadata": {},
   "outputs": [
    {
     "name": "stdout",
     "output_type": "stream",
     "text": [
      "Epoch 1/10\n",
      "843/843 [==============================] - 125s 148ms/step - loss: 0.0582 - accuracy: 0.9851 - val_loss: 0.0407 - val_accuracy: 0.9871\n",
      "Epoch 2/10\n",
      "843/843 [==============================] - 125s 148ms/step - loss: 0.0391 - accuracy: 0.9898 - val_loss: 0.0409 - val_accuracy: 0.9841\n",
      "Epoch 3/10\n",
      "843/843 [==============================] - 125s 148ms/step - loss: 0.0305 - accuracy: 0.9927 - val_loss: 0.0559 - val_accuracy: 0.9816\n",
      "Epoch 4/10\n",
      "843/843 [==============================] - 125s 148ms/step - loss: 0.0210 - accuracy: 0.9950 - val_loss: 0.0444 - val_accuracy: 0.9880\n",
      "Epoch 5/10\n",
      "843/843 [==============================] - 128s 151ms/step - loss: 0.0155 - accuracy: 0.9961 - val_loss: 0.0417 - val_accuracy: 0.9902\n",
      "Epoch 6/10\n",
      "843/843 [==============================] - 131s 155ms/step - loss: 0.0124 - accuracy: 0.9970 - val_loss: 0.0517 - val_accuracy: 0.9884\n",
      "Epoch 7/10\n",
      "843/843 [==============================] - 132s 156ms/step - loss: 0.0117 - accuracy: 0.9970 - val_loss: 0.0383 - val_accuracy: 0.9889\n",
      "Epoch 8/10\n",
      "843/843 [==============================] - 130s 155ms/step - loss: 0.0089 - accuracy: 0.9976 - val_loss: 0.0526 - val_accuracy: 0.9901\n",
      "Epoch 9/10\n",
      "843/843 [==============================] - 136s 162ms/step - loss: 0.0061 - accuracy: 0.9985 - val_loss: 0.0437 - val_accuracy: 0.9908\n",
      "Epoch 10/10\n",
      "843/843 [==============================] - 131s 155ms/step - loss: 0.0057 - accuracy: 0.9986 - val_loss: 0.0454 - val_accuracy: 0.9910\n"
     ]
    }
   ],
   "source": [
    "EPOCHS = 10  # You can adjust the number of epochs\n",
    "BATCH_SIZE = 32\n",
    "\n",
    "history = model.fit(X_train, y_train,\n",
    "                    epochs=EPOCHS,\n",
    "                    batch_size=BATCH_SIZE,\n",
    "                    validation_data=(X_val, y_val))"
   ]
  },
  {
   "cell_type": "code",
   "execution_count": 16,
   "id": "454ca303-146f-46fe-8c59-a1fbe6aa2f7e",
   "metadata": {},
   "outputs": [
    {
     "name": "stdout",
     "output_type": "stream",
     "text": [
      "211/211 [==============================] - 7s 28ms/step\n",
      "Accuracy: 0.9909535814919176\n",
      "              precision    recall  f1-score   support\n",
      "\n",
      "           0       1.00      0.99      0.99      3282\n",
      "           1       0.99      1.00      0.99      3461\n",
      "\n",
      "    accuracy                           0.99      6743\n",
      "   macro avg       0.99      0.99      0.99      6743\n",
      "weighted avg       0.99      0.99      0.99      6743\n",
      "\n"
     ]
    }
   ],
   "source": [
    "y_pred_probs = model.predict(X_val)\n",
    "y_pred = np.round(y_pred_probs).astype(int)\n",
    "\n",
    "print(\"Accuracy:\", accuracy_score(y_val, y_pred))\n",
    "print(classification_report(y_val, y_pred))"
   ]
  },
  {
   "cell_type": "code",
   "execution_count": 17,
   "id": "5e715880-80dd-4eff-8626-581bb84ee828",
   "metadata": {},
   "outputs": [
    {
     "data": {
      "image/png": "[encoded data removed]",
      "text/plain": [
       "<Figure size 1200x400 with 2 Axes>"
      ]
     },
     "metadata": {},
     "output_type": "display_data"
    }
   ],
   "source": [
    "plt.figure(figsize=(12, 4))\n",
    "\n",
    "# Plot training & validation accuracy values\n",
    "plt.subplot(1, 2, 1)\n",
    "plt.plot(history.history['accuracy'])\n",
    "plt.plot(history.history['val_accuracy'])\n",
    "plt.title('Model accuracy')\n",
    "plt.ylabel('Accuracy')\n",
    "plt.xlabel('Epoch')\n",
    "plt.legend(['Train', 'Validation'], loc='upper left')\n",
    "\n",
    "# Plot training & validation loss values\n",
    "plt.subplot(1, 2, 2)\n",
    "plt.plot(history.history['loss'])\n",
    "plt.plot(history.history['val_loss'])\n",
    "plt.title('Model loss')\n",
    "plt.ylabel('Loss')\n",
    "plt.xlabel('Epoch')\n",
    "plt.legend(['Train', 'Validation'], loc='upper left')\n",
    "\n",
    "plt.show()"
   ]
  },
  {
   "cell_type": "code",
   "execution_count": 18,
   "id": "b16cd30c-f4d8-4f5d-8cb0-1c84817b59c2",
   "metadata": {},
   "outputs": [
    {
     "name": "stdout",
     "output_type": "stream",
     "text": [
      "LSTM model saved to enron_spam_lstm_model.h5\n",
      "Tokenizer saved to enron_spam_lstm_tokenizer.pkl\n"
     ]
    }
   ],
   "source": [
    "model_save_path = \"enron_spam_lstm_model.h5\"\n",
    "model.save(model_save_path)\n",
    "print(f\"LSTM model saved to {model_save_path}\")\n",
    "\n",
    "# You might also want to save the tokenizer if you need to load the model later\n",
    "import pickle\n",
    "tokenizer_save_path = \"enron_spam_lstm_tokenizer.pkl\"\n",
    "with open(tokenizer_save_path, 'wb') as handle:\n",
    "    pickle.dump(tokenizer, handle, protocol=pickle.HIGHEST_PROTOCOL)\n",
    "print(f\"Tokenizer saved to {tokenizer_save_path}\")"
   ]
  },
  {
   "cell_type": "code",
   "execution_count": 19,
   "id": "06434986-c978-4c1a-9020-22ee9efb6183",
   "metadata": {},
   "outputs": [
    {
     "name": "stdout",
     "output_type": "stream",
     "text": [
      "   Unnamed: 0                                         Email Text  \\\n",
      "0           0  re : 6 . 1100 , disc : uniformitarianism , re ...   \n",
      "1           1  the other side of * galicismos * * galicismo *...   \n",
      "2           2  re : equistar deal tickets are you still avail...   \n",
      "3           3  \\nHello I am your hot lil horny toy.\\n    I am...   \n",
      "4           4  software at incredibly low prices ( 86 % lower...   \n",
      "\n",
      "       Email Type  \n",
      "0      Safe Email  \n",
      "1      Safe Email  \n",
      "2      Safe Email  \n",
      "3  Phishing Email  \n",
      "4  Phishing Email  \n"
     ]
    }
   ],
   "source": [
    "import pandas as pd\n",
    "from sklearn.model_selection import train_test_split\n",
    "\n",
    "# Replace 'phishing_emails.csv' with the actual name of your downloaded file\n",
    "new_df = pd.read_csv('DataSet/csv/Phishing_Email.csv')\n",
    "\n",
    "# Display the first few rows to understand the structure\n",
    "print(new_df.head())"
   ]
  },
  {
   "cell_type": "code",
   "execution_count": 3,
   "id": "4bdbd961-639c-4c25-8038-887f69a608f4",
   "metadata": {},
   "outputs": [
    {
     "name": "stdout",
     "output_type": "stream",
     "text": [
      "Tokenizer loaded successfully!\n"
     ]
    }
   ],
   "source": [
    "import pickle\n",
    "\n",
    "# Define the path to your saved tokenizer file\n",
    "tokenizer_path = \"model/enron_spam_lstm_tokenizer.pkl\"\n",
    "\n",
    "# Load the tokenizer\n",
    "with open(tokenizer_path, 'rb') as handle:\n",
    "    loaded_tokenizer = pickle.load(handle)\n",
    "\n",
    "print(\"Tokenizer loaded successfully!\") # Optional: Confirmation message"
   ]
  },
  {
   "cell_type": "code",
   "execution_count": 22,
   "id": "52229a36-2629-4c69-a665-23db7fb79068",
   "metadata": {},
   "outputs": [
    {
     "name": "stdout",
     "output_type": "stream",
     "text": [
      "Shape of new padded sequences: (18634, 128)\n",
      "Shape of new labels: (18634,)\n"
     ]
    }
   ],
   "source": [
    "# Rename columns to be consistent (optional but good practice)\n",
    "new_df.rename(columns={'Email Text': 'text', 'Email Type': 'label_text'}, inplace=True)\n",
    "\n",
    "# Map labels to numerical values\n",
    "new_df['label'] = new_df['label_text'].map({'Safe Email': 0, 'Phishing Email': 1})\n",
    "\n",
    "# Handle potential NaN values in the text column\n",
    "new_df.dropna(subset=['text', 'label'], inplace=True)\n",
    "\n",
    "# Extract text and labels\n",
    "new_texts = new_df['text'].tolist()\n",
    "new_labels = new_df['label'].tolist()\n",
    "\n",
    "# Tokenize the new texts using the loaded tokenizer\n",
    "new_sequences = loaded_tokenizer.texts_to_sequences(new_texts)\n",
    "\n",
    "# Pad the new sequences\n",
    "new_padded_sequences = pad_sequences(new_sequences, maxlen=MAX_LEN, padding='post', truncating='post')\n",
    "\n",
    "new_labels = np.array(new_labels)\n",
    "\n",
    "print(\"Shape of new padded sequences:\", new_padded_sequences.shape)\n",
    "print(\"Shape of new labels:\", new_labels.shape)"
   ]
  },
  {
   "cell_type": "code",
   "execution_count": 23,
   "id": "c37763b8-e68d-4ff0-a6b2-3a2cec10b018",
   "metadata": {},
   "outputs": [
    {
     "name": "stdout",
     "output_type": "stream",
     "text": [
      "Epoch 1/5\n",
      "466/466 [==============================] - 169s 340ms/step - loss: 0.6900 - accuracy: 0.8657 - val_loss: 0.3731 - val_accuracy: 0.9074\n",
      "Epoch 2/5\n",
      "466/466 [==============================] - 158s 339ms/step - loss: 0.3433 - accuracy: 0.9055 - val_loss: 0.3016 - val_accuracy: 0.9096\n",
      "Epoch 3/5\n",
      "466/466 [==============================] - 159s 341ms/step - loss: 0.3063 - accuracy: 0.9058 - val_loss: 0.2770 - val_accuracy: 0.9115\n",
      "Epoch 4/5\n",
      "466/466 [==============================] - 159s 341ms/step - loss: 0.2862 - accuracy: 0.9051 - val_loss: 0.2606 - val_accuracy: 0.9152\n",
      "Epoch 5/5\n",
      "466/466 [==============================] - 158s 339ms/step - loss: 0.2651 - accuracy: 0.9059 - val_loss: 0.2426 - val_accuracy: 0.9184\n"
     ]
    }
   ],
   "source": [
    "# Choose a smaller learning rate for fine-tuning (optional)\n",
    "from tensorflow.keras.optimizers import Adam\n",
    "new_learning_rate = 1e-5  # You can experiment with this value\n",
    "model.optimizer.learning_rate.assign(new_learning_rate)\n",
    "\n",
    "# Split the new data into training and validation sets (optional but recommended)\n",
    "X_new_train, X_new_val, y_new_train, y_new_val = train_test_split(\n",
    "    new_padded_sequences, new_labels, test_size=0.2, random_state=42\n",
    ")\n",
    "\n",
    "# Continue training the model\n",
    "epochs_fine_tune = 5  # You can adjust the number of epochs\n",
    "batch_size_fine_tune = 32 # You can adjust the batch size\n",
    "\n",
    "history_fine_tune = model.fit(\n",
    "    X_new_train, y_new_train,\n",
    "    epochs=epochs_fine_tune,\n",
    "    batch_size=batch_size_fine_tune,\n",
    "    validation_data=(X_new_val, y_new_val)\n",
    ")"
   ]
  },
  {
   "cell_type": "code",
   "execution_count": 24,
   "id": "e9d79f76-fcb6-4fef-a22c-f6f3abc22daf",
   "metadata": {},
   "outputs": [
    {
     "name": "stdout",
     "output_type": "stream",
     "text": [
      "117/117 [==============================] - 10s 85ms/step\n",
      "Evaluation on the new validation set after fine-tuning:\n",
      "Accuracy: 0.918433056077274\n",
      "              precision    recall  f1-score   support\n",
      "\n",
      "           0       0.94      0.92      0.93      2209\n",
      "           1       0.89      0.91      0.90      1518\n",
      "\n",
      "    accuracy                           0.92      3727\n",
      "   macro avg       0.91      0.92      0.92      3727\n",
      "weighted avg       0.92      0.92      0.92      3727\n",
      "\n"
     ]
    }
   ],
   "source": [
    "from sklearn.metrics import accuracy_score, classification_report\n",
    "\n",
    "# Make predictions on the new validation set\n",
    "y_pred_probs_new = model.predict(X_new_val)\n",
    "y_pred_new = np.round(y_pred_probs_new).astype(int)\n",
    "\n",
    "print(\"Evaluation on the new validation set after fine-tuning:\")\n",
    "print(\"Accuracy:\", accuracy_score(y_new_val, y_pred_new))\n",
    "print(classification_report(y_new_val, y_pred_new))"
   ]
  },
  {
   "cell_type": "code",
   "execution_count": 25,
   "id": "4b2eaccd-0f12-4da5-821c-7995d2c7e276",
   "metadata": {},
   "outputs": [
    {
     "name": "stdout",
     "output_type": "stream",
     "text": [
      "Updated LSTM model saved to enron_spam_lstm_model_updated.h5\n"
     ]
    }
   ],
   "source": [
    "updated_model_save_path = \"enron_spam_lstm_model_updated.h5\"\n",
    "model.save(updated_model_save_path)\n",
    "print(f\"Updated LSTM model saved to {updated_model_save_path}\")"
   ]
  },
  {
   "cell_type": "code",
   "execution_count": 26,
   "id": "6a996319-7641-43fd-adff-5ee0a9327ee6",
   "metadata": {},
   "outputs": [
    {
     "name": "stdout",
     "output_type": "stream",
     "text": [
      "Successfully loaded the 99% accuracy backup model into the 'model' variable.\n"
     ]
    }
   ],
   "source": [
    "from tensorflow.keras.models import load_model\n",
    "\n",
    "# Replace 'path/to/your/backup/model.h5' with the actual path to your backup model file\n",
    "backup_model_path = 'model/enron_spam_lstm_model.h5'\n",
    "\n",
    "# Load the backup model\n",
    "model = load_model(backup_model_path)\n",
    "\n",
    "print(\"Successfully loaded the 99% accuracy backup model into the 'model' variable.\")"
   ]
  },
  {
   "cell_type": "code",
   "execution_count": 28,
   "id": "b0f87e14-d569-475b-a6e2-9a586de6ebc9",
   "metadata": {},
   "outputs": [
    {
     "name": "stdout",
     "output_type": "stream",
     "text": [
      "Loaded dataset: Phishing-Email-Dataset/CEAS_08.csv with 39154 samples.\n",
      "Shape of new padded sequences: (39154, 128)\n",
      "Shape of new labels: (39154,)\n",
      "Shape of new training data: (31323, 128) (31323,)\n",
      "Shape of new validation data: (7831, 128) (7831,)\n",
      "\n",
      "--- Starting Fine-tuning ---\n",
      "Epoch 1/10\n",
      "979/979 [==============================] - 193s 198ms/step - loss: 0.2092 - accuracy: 0.9266 - val_loss: 0.1671 - val_accuracy: 0.9420\n",
      "Epoch 2/10\n",
      "979/979 [==============================] - 194s 198ms/step - loss: 0.1886 - accuracy: 0.9352 - val_loss: 0.1536 - val_accuracy: 0.9466\n",
      "Epoch 3/10\n",
      "979/979 [==============================] - 193s 197ms/step - loss: 0.1767 - accuracy: 0.9402 - val_loss: 0.1442 - val_accuracy: 0.9494\n",
      "Epoch 4/10\n",
      "979/979 [==============================] - 196s 200ms/step - loss: 0.1659 - accuracy: 0.9442 - val_loss: 0.1373 - val_accuracy: 0.9522\n",
      "Epoch 5/10\n",
      "979/979 [==============================] - 197s 201ms/step - loss: 0.1556 - accuracy: 0.9474 - val_loss: 0.1308 - val_accuracy: 0.9557\n",
      "Epoch 6/10\n",
      "979/979 [==============================] - 198s 202ms/step - loss: 0.1485 - accuracy: 0.9502 - val_loss: 0.1249 - val_accuracy: 0.9576\n",
      "Epoch 7/10\n",
      "979/979 [==============================] - 197s 201ms/step - loss: 0.1401 - accuracy: 0.9530 - val_loss: 0.1195 - val_accuracy: 0.9586\n",
      "Epoch 8/10\n",
      "979/979 [==============================] - 197s 201ms/step - loss: 0.1331 - accuracy: 0.9551 - val_loss: 0.1152 - val_accuracy: 0.9599\n",
      "Epoch 9/10\n",
      "979/979 [==============================] - 198s 203ms/step - loss: 0.1301 - accuracy: 0.9571 - val_loss: 0.1107 - val_accuracy: 0.9616\n",
      "Epoch 10/10\n",
      "979/979 [==============================] - 199s 203ms/step - loss: 0.1245 - accuracy: 0.9581 - val_loss: 0.1073 - val_accuracy: 0.9623\n",
      "\n",
      "--- Evaluating on the new validation set ---\n",
      "245/245 [==============================] - 20s 71ms/step\n",
      "Accuracy: 0.9623292044438769\n",
      "              precision    recall  f1-score   support\n",
      "\n",
      "           0       0.96      0.96      0.96      3490\n",
      "           1       0.96      0.97      0.97      4341\n",
      "\n",
      "    accuracy                           0.96      7831\n",
      "   macro avg       0.96      0.96      0.96      7831\n",
      "weighted avg       0.96      0.96      0.96      7831\n",
      "\n",
      "Updated LSTM model saved to enron_spam_lstm_model_updated_Phishing-Email-Dataset/CEAS_08.h5\n"
     ]
    }
   ],
   "source": [
    "import pandas as pd\n",
    "import numpy as np\n",
    "from sklearn.model_selection import train_test_split\n",
    "from tensorflow.keras.preprocessing.sequence import pad_sequences\n",
    "from sklearn.metrics import accuracy_score, classification_report\n",
    "\n",
    "# --- Configuration ---\n",
    "NEW_DATASET_FILENAME = 'Phishing-Email-Dataset/CEAS_08.csv'  # <--- REPLACE WITH THE ACTUAL FILENAME\n",
    "TEXT_COLUMN = 'body'\n",
    "LABEL_COLUMN = 'label'\n",
    "MAX_LEN = 128  # Ensure this matches your previous setting\n",
    "NEW_LEARNING_RATE = 1e-5  # You can experiment with this\n",
    "EPOCHS_FINE_TUNE = 10      # Adjust as needed\n",
    "BATCH_SIZE_FINE_TUNE = 32  # Adjust as needed\n",
    "\n",
    "# --- Load the new dataset ---\n",
    "try:\n",
    "    new_df = pd.read_csv(NEW_DATASET_FILENAME)\n",
    "    print(f\"Loaded dataset: {NEW_DATASET_FILENAME} with {len(new_df)} samples.\")\n",
    "except FileNotFoundError:\n",
    "    print(f\"Error: File not found at path: {NEW_DATASET_FILENAME}\")\n",
    "    exit()\n",
    "\n",
    "# --- Prepare the new data ---\n",
    "if TEXT_COLUMN not in new_df.columns or LABEL_COLUMN not in new_df.columns:\n",
    "    print(f\"Error: '{TEXT_COLUMN}' or '{LABEL_COLUMN}' column not found in the dataset.\")\n",
    "    exit()\n",
    "\n",
    "new_texts = new_df[TEXT_COLUMN].astype(str).tolist() # Ensure text is string\n",
    "new_labels = new_df[LABEL_COLUMN].tolist()\n",
    "\n",
    "# Tokenize the new texts using the loaded tokenizer\n",
    "new_sequences = loaded_tokenizer.texts_to_sequences(new_texts)\n",
    "\n",
    "# Pad the new sequences\n",
    "new_padded_sequences = pad_sequences(new_sequences, maxlen=MAX_LEN, padding='post', truncating='post')\n",
    "\n",
    "new_labels = np.array(new_labels)\n",
    "\n",
    "print(\"Shape of new padded sequences:\", new_padded_sequences.shape)\n",
    "print(\"Shape of new labels:\", new_labels.shape)\n",
    "\n",
    "# --- Split the new data for validation ---\n",
    "X_new_train, X_new_val, y_new_train, y_new_val = train_test_split(\n",
    "    new_padded_sequences, new_labels, test_size=0.2, random_state=42\n",
    ")\n",
    "\n",
    "print(\"Shape of new training data:\", X_new_train.shape, y_new_train.shape)\n",
    "print(\"Shape of new validation data:\", X_new_val.shape, y_new_val.shape)\n",
    "\n",
    "# --- Set the learning rate for fine-tuning ---\n",
    "model.optimizer.learning_rate.assign(NEW_LEARNING_RATE)\n",
    "\n",
    "# --- Continue training the model ---\n",
    "print(\"\\n--- Starting Fine-tuning ---\")\n",
    "history_fine_tune = model.fit(\n",
    "    X_new_train, y_new_train,\n",
    "    epochs=EPOCHS_FINE_TUNE,\n",
    "    batch_size=BATCH_SIZE_FINE_TUNE,\n",
    "    validation_data=(X_new_val, y_new_val)\n",
    ")\n",
    "\n",
    "# --- Evaluate the updated model on the new validation set ---\n",
    "print(\"\\n--- Evaluating on the new validation set ---\")\n",
    "y_pred_probs_new = model.predict(X_new_val)\n",
    "y_pred_new = np.round(y_pred_probs_new).astype(int)\n",
    "\n",
    "print(\"Accuracy:\", accuracy_score(y_new_val, y_pred_new))\n",
    "print(classification_report(y_new_val, y_pred_new))\n",
    "\n",
    "# --- Optional: Save the updated model (you might want to use a new name) ---\n",
    "updated_model_save_path = f\"enron_spam_lstm_model_updated_{NEW_DATASET_FILENAME.replace('.csv', '')}.h5\"\n",
    "model.save(updated_model_save_path)\n",
    "print(f\"Updated LSTM model saved to {updated_model_save_path}\")"
   ]
  },
  {
   "cell_type": "code",
   "execution_count": 1,
   "id": "0d42ef81-a02b-4713-a84b-51031e2be549",
   "metadata": {},
   "outputs": [
    {
     "name": "stdout",
     "output_type": "stream",
     "text": [
      "Successfully loaded the 99% accuracy backup model into the 'model' variable.\n"
     ]
    }
   ],
   "source": [
    "from tensorflow.keras.models import load_model\n",
    "\n",
    "# Replace 'path/to/your/backup/model.h5' with the actual path to your backup model file\n",
    "backup_model_path = 'enron_spam_lstm_model_updated_Phishing-Email-Dataset/CEAS_08.h5'\n",
    "\n",
    "# Load the backup model\n",
    "model = load_model(backup_model_path)\n",
    "\n",
    "print(\"Successfully loaded the 99% accuracy backup model into the 'model' variable.\")"
   ]
  },
  {
   "cell_type": "code",
   "execution_count": 5,
   "id": "44c8dcb7-745b-4cd1-883f-e8b0423e1bae",
   "metadata": {},
   "outputs": [
    {
     "name": "stdout",
     "output_type": "stream",
     "text": [
      "Loaded dataset: Phishing-Email-Dataset/Nazario.csv with 1565 samples.\n",
      "Shape of new padded sequences: (1565, 128)\n",
      "Shape of new labels: (1565,)\n",
      "Shape of new training data: (1252, 128) (1252,)\n",
      "Shape of new validation data: (313, 128) (313,)\n",
      "\n",
      "--- Starting Fine-tuning ---\n",
      "Epoch 1/20\n",
      "40/40 [==============================] - 5s 117ms/step - loss: 0.2754 - accuracy: 0.8906 - val_loss: 0.3320 - val_accuracy: 0.8466\n",
      "Epoch 2/20\n",
      "40/40 [==============================] - 7s 179ms/step - loss: 0.2642 - accuracy: 0.8994 - val_loss: 0.3034 - val_accuracy: 0.8562\n",
      "Epoch 3/20\n",
      "40/40 [==============================] - 7s 168ms/step - loss: 0.2211 - accuracy: 0.9065 - val_loss: 0.2782 - val_accuracy: 0.8722\n",
      "Epoch 4/20\n",
      "40/40 [==============================] - 6s 160ms/step - loss: 0.2084 - accuracy: 0.9129 - val_loss: 0.2564 - val_accuracy: 0.8850\n",
      "Epoch 5/20\n",
      "40/40 [==============================] - 6s 159ms/step - loss: 0.2027 - accuracy: 0.9233 - val_loss: 0.2380 - val_accuracy: 0.8978\n",
      "Epoch 6/20\n",
      "40/40 [==============================] - 6s 160ms/step - loss: 0.1639 - accuracy: 0.9377 - val_loss: 0.2186 - val_accuracy: 0.9010\n",
      "Epoch 7/20\n",
      "40/40 [==============================] - 7s 170ms/step - loss: 0.1658 - accuracy: 0.9377 - val_loss: 0.2045 - val_accuracy: 0.9233\n",
      "Epoch 8/20\n",
      "40/40 [==============================] - 7s 165ms/step - loss: 0.1501 - accuracy: 0.9465 - val_loss: 0.1905 - val_accuracy: 0.9329\n",
      "Epoch 9/20\n",
      "40/40 [==============================] - 6s 157ms/step - loss: 0.1437 - accuracy: 0.9465 - val_loss: 0.1763 - val_accuracy: 0.9393\n",
      "Epoch 10/20\n",
      "40/40 [==============================] - 6s 159ms/step - loss: 0.1250 - accuracy: 0.9521 - val_loss: 0.1636 - val_accuracy: 0.9425\n",
      "Epoch 11/20\n",
      "40/40 [==============================] - 7s 165ms/step - loss: 0.1263 - accuracy: 0.9521 - val_loss: 0.1525 - val_accuracy: 0.9425\n",
      "Epoch 12/20\n",
      "40/40 [==============================] - 7s 170ms/step - loss: 0.1170 - accuracy: 0.9553 - val_loss: 0.1450 - val_accuracy: 0.9457\n",
      "Epoch 13/20\n",
      "40/40 [==============================] - 6s 159ms/step - loss: 0.1046 - accuracy: 0.9609 - val_loss: 0.1384 - val_accuracy: 0.9489\n",
      "Epoch 14/20\n",
      "40/40 [==============================] - 6s 157ms/step - loss: 0.1007 - accuracy: 0.9601 - val_loss: 0.1325 - val_accuracy: 0.9489\n",
      "Epoch 15/20\n",
      "40/40 [==============================] - 6s 161ms/step - loss: 0.0936 - accuracy: 0.9665 - val_loss: 0.1270 - val_accuracy: 0.9521\n",
      "Epoch 16/20\n",
      "40/40 [==============================] - 7s 163ms/step - loss: 0.0924 - accuracy: 0.9617 - val_loss: 0.1219 - val_accuracy: 0.9521\n",
      "Epoch 17/20\n",
      "40/40 [==============================] - 7s 180ms/step - loss: 0.0942 - accuracy: 0.9633 - val_loss: 0.1173 - val_accuracy: 0.9585\n",
      "Epoch 18/20\n",
      "40/40 [==============================] - 7s 164ms/step - loss: 0.0809 - accuracy: 0.9720 - val_loss: 0.1134 - val_accuracy: 0.9585\n",
      "Epoch 19/20\n",
      "40/40 [==============================] - 7s 163ms/step - loss: 0.0827 - accuracy: 0.9665 - val_loss: 0.1093 - val_accuracy: 0.9617\n",
      "Epoch 20/20\n",
      "40/40 [==============================] - 6s 157ms/step - loss: 0.0724 - accuracy: 0.9688 - val_loss: 0.1053 - val_accuracy: 0.9617\n",
      "\n",
      "--- Evaluating on the new validation set ---\n",
      "10/10 [==============================] - 2s 30ms/step\n",
      "Accuracy: 0.9616613418530351\n",
      "              precision    recall  f1-score   support\n",
      "\n",
      "           0       0.00      0.00      0.00         0\n",
      "           1       1.00      0.96      0.98       313\n",
      "\n",
      "    accuracy                           0.96       313\n",
      "   macro avg       0.50      0.48      0.49       313\n",
      "weighted avg       1.00      0.96      0.98       313\n",
      "\n",
      "Updated LSTM model saved to enron_spam_lstm_model_updated_Phishing-Email-Dataset/Nazario.h5\n"
     ]
    },
    {
     "name": "stderr",
     "output_type": "stream",
     "text": [
      "C:\\Users\\fored\\miniconda3\\envs\\genreAI\\lib\\site-packages\\sklearn\\metrics\\_classification.py:1565: UndefinedMetricWarning: Recall is ill-defined and being set to 0.0 in labels with no true samples. Use `zero_division` parameter to control this behavior.\n",
      "  _warn_prf(average, modifier, f\"{metric.capitalize()} is\", len(result))\n",
      "C:\\Users\\fored\\miniconda3\\envs\\genreAI\\lib\\site-packages\\sklearn\\metrics\\_classification.py:1565: UndefinedMetricWarning: Recall is ill-defined and being set to 0.0 in labels with no true samples. Use `zero_division` parameter to control this behavior.\n",
      "  _warn_prf(average, modifier, f\"{metric.capitalize()} is\", len(result))\n",
      "C:\\Users\\fored\\miniconda3\\envs\\genreAI\\lib\\site-packages\\sklearn\\metrics\\_classification.py:1565: UndefinedMetricWarning: Recall is ill-defined and being set to 0.0 in labels with no true samples. Use `zero_division` parameter to control this behavior.\n",
      "  _warn_prf(average, modifier, f\"{metric.capitalize()} is\", len(result))\n"
     ]
    }
   ],
   "source": [
    "import pandas as pd\n",
    "import numpy as np\n",
    "from sklearn.model_selection import train_test_split\n",
    "from tensorflow.keras.preprocessing.sequence import pad_sequences\n",
    "from sklearn.metrics import accuracy_score, classification_report\n",
    "\n",
    "# --- Configuration ---\n",
    "NEW_DATASET_FILENAME = 'Phishing-Email-Dataset/Nazario.csv'  # <--- REPLACE WITH THE ACTUAL FILENAME\n",
    "TEXT_COLUMN = 'body'\n",
    "LABEL_COLUMN = 'label'\n",
    "MAX_LEN = 128  # Ensure this matches your previous setting\n",
    "NEW_LEARNING_RATE = 1e-5  # You can experiment with this\n",
    "EPOCHS_FINE_TUNE = 20      # Adjust as needed\n",
    "BATCH_SIZE_FINE_TUNE = 32  # Adjust as needed\n",
    "\n",
    "# --- Load the new dataset ---\n",
    "try:\n",
    "    new_df = pd.read_csv(NEW_DATASET_FILENAME)\n",
    "    print(f\"Loaded dataset: {NEW_DATASET_FILENAME} with {len(new_df)} samples.\")\n",
    "except FileNotFoundError:\n",
    "    print(f\"Error: File not found at path: {NEW_DATASET_FILENAME}\")\n",
    "    exit()\n",
    "\n",
    "# --- Prepare the new data ---\n",
    "if TEXT_COLUMN not in new_df.columns or LABEL_COLUMN not in new_df.columns:\n",
    "    print(f\"Error: '{TEXT_COLUMN}' or '{LABEL_COLUMN}' column not found in the dataset.\")\n",
    "    exit()\n",
    "\n",
    "new_texts = new_df[TEXT_COLUMN].astype(str).tolist() # Ensure text is string\n",
    "new_labels = new_df[LABEL_COLUMN].tolist()\n",
    "\n",
    "# Tokenize the new texts using the loaded tokenizer\n",
    "new_sequences = loaded_tokenizer.texts_to_sequences(new_texts)\n",
    "\n",
    "# Pad the new sequences\n",
    "new_padded_sequences = pad_sequences(new_sequences, maxlen=MAX_LEN, padding='post', truncating='post')\n",
    "\n",
    "new_labels = np.array(new_labels)\n",
    "\n",
    "print(\"Shape of new padded sequences:\", new_padded_sequences.shape)\n",
    "print(\"Shape of new labels:\", new_labels.shape)\n",
    "\n",
    "# --- Split the new data for validation ---\n",
    "X_new_train, X_new_val, y_new_train, y_new_val = train_test_split(\n",
    "    new_padded_sequences, new_labels, test_size=0.2, random_state=42\n",
    ")\n",
    "\n",
    "print(\"Shape of new training data:\", X_new_train.shape, y_new_train.shape)\n",
    "print(\"Shape of new validation data:\", X_new_val.shape, y_new_val.shape)\n",
    "\n",
    "# --- Set the learning rate for fine-tuning ---\n",
    "model.optimizer.learning_rate.assign(NEW_LEARNING_RATE)\n",
    "\n",
    "# --- Continue training the model ---\n",
    "print(\"\\n--- Starting Fine-tuning ---\")\n",
    "history_fine_tune = model.fit(\n",
    "    X_new_train, y_new_train,\n",
    "    epochs=EPOCHS_FINE_TUNE,\n",
    "    batch_size=BATCH_SIZE_FINE_TUNE,\n",
    "    validation_data=(X_new_val, y_new_val)\n",
    ")\n",
    "\n",
    "# --- Evaluate the updated model on the new validation set ---\n",
    "print(\"\\n--- Evaluating on the new validation set ---\")\n",
    "y_pred_probs_new = model.predict(X_new_val)\n",
    "y_pred_new = np.round(y_pred_probs_new).astype(int)\n",
    "\n",
    "print(\"Accuracy:\", accuracy_score(y_new_val, y_pred_new))\n",
    "print(classification_report(y_new_val, y_pred_new))\n",
    "\n",
    "# --- Optional: Save the updated model (you might want to use a new name) ---\n",
    "updated_model_save_path = f\"enron_spam_lstm_model_updated_{NEW_DATASET_FILENAME.replace('.csv', '')}.h5\"\n",
    "model.save(updated_model_save_path)\n",
    "print(f\"Updated LSTM model saved to {updated_model_save_path}\")"
   ]
  },
  {
   "cell_type": "code",
   "execution_count": 11,
   "id": "9f666da4-345b-46b6-bd76-14f95f1600b0",
   "metadata": {},
   "outputs": [
    {
     "name": "stdout",
     "output_type": "stream",
     "text": [
      "Successfully loaded the 99% accuracy backup model into the 'model' variable.\n"
     ]
    }
   ],
   "source": [
    "from tensorflow.keras.models import load_model\n",
    "\n",
    "# Replace 'path/to/your/backup/model.h5' with the actual path to your backup model file\n",
    "backup_model_path = 'enron_spam_lstm_model_updated_Phishing-Email-Dataset/Nazario.h5'\n",
    "\n",
    "# Load the backup model\n",
    "model = load_model(backup_model_path)\n",
    "\n",
    "print(\"Successfully loaded the 99% accuracy backup model into the 'model' variable.\")"
   ]
  },
  {
   "cell_type": "code",
   "execution_count": 14,
   "id": "7ffdeaa8-1f6c-4db1-a93c-bef18b2d574d",
   "metadata": {},
   "outputs": [
    {
     "name": "stdout",
     "output_type": "stream",
     "text": [
      "Loaded dataset: Phishing-Email-Dataset/Nigerian_Fraud.csv with 3332 samples.\n",
      "Shape of new padded sequences: (3332, 128)\n",
      "Shape of new labels: (3332,)\n",
      "Shape of new training data: (2665, 128) (2665,)\n",
      "Shape of new validation data: (667, 128) (667,)\n",
      "\n",
      "--- Starting Fine-tuning ---\n",
      "Epoch 1/20\n",
      "84/84 [==============================] - 13s 154ms/step - loss: 0.3502 - accuracy: 0.8664 - val_loss: 0.2179 - val_accuracy: 0.9220\n",
      "Epoch 2/20\n",
      "84/84 [==============================] - 18s 214ms/step - loss: 0.1742 - accuracy: 0.9332 - val_loss: 0.1381 - val_accuracy: 0.9535\n",
      "Epoch 3/20\n",
      "84/84 [==============================] - 20s 234ms/step - loss: 0.1157 - accuracy: 0.9621 - val_loss: 0.0979 - val_accuracy: 0.9655\n",
      "Epoch 4/20\n",
      "84/84 [==============================] - 19s 226ms/step - loss: 0.0897 - accuracy: 0.9689 - val_loss: 0.0723 - val_accuracy: 0.9745\n",
      "Epoch 5/20\n",
      "84/84 [==============================] - 19s 223ms/step - loss: 0.0662 - accuracy: 0.9782 - val_loss: 0.0555 - val_accuracy: 0.9865\n",
      "Epoch 6/20\n",
      "84/84 [==============================] - 19s 225ms/step - loss: 0.0546 - accuracy: 0.9816 - val_loss: 0.0458 - val_accuracy: 0.9895\n",
      "Epoch 7/20\n",
      "84/84 [==============================] - 19s 230ms/step - loss: 0.0448 - accuracy: 0.9880 - val_loss: 0.0395 - val_accuracy: 0.9895\n",
      "Epoch 8/20\n",
      "84/84 [==============================] - 21s 246ms/step - loss: 0.0427 - accuracy: 0.9887 - val_loss: 0.0343 - val_accuracy: 0.9895\n",
      "Epoch 9/20\n",
      "84/84 [==============================] - 21s 251ms/step - loss: 0.0335 - accuracy: 0.9895 - val_loss: 0.0300 - val_accuracy: 0.9910\n",
      "Epoch 10/20\n",
      "84/84 [==============================] - 20s 240ms/step - loss: 0.0305 - accuracy: 0.9910 - val_loss: 0.0260 - val_accuracy: 0.9910\n",
      "Epoch 11/20\n",
      "84/84 [==============================] - 19s 225ms/step - loss: 0.0285 - accuracy: 0.9925 - val_loss: 0.0226 - val_accuracy: 0.9910\n",
      "Epoch 12/20\n",
      "84/84 [==============================] - 19s 223ms/step - loss: 0.0256 - accuracy: 0.9921 - val_loss: 0.0198 - val_accuracy: 0.9925\n",
      "Epoch 13/20\n",
      "84/84 [==============================] - 19s 223ms/step - loss: 0.0248 - accuracy: 0.9925 - val_loss: 0.0163 - val_accuracy: 0.9940\n",
      "Epoch 14/20\n",
      "84/84 [==============================] - 19s 224ms/step - loss: 0.0190 - accuracy: 0.9944 - val_loss: 0.0148 - val_accuracy: 0.9940\n",
      "Epoch 15/20\n",
      "84/84 [==============================] - 19s 226ms/step - loss: 0.0211 - accuracy: 0.9929 - val_loss: 0.0134 - val_accuracy: 0.9955\n",
      "Epoch 16/20\n",
      "84/84 [==============================] - 19s 224ms/step - loss: 0.0184 - accuracy: 0.9944 - val_loss: 0.0124 - val_accuracy: 0.9955\n",
      "Epoch 17/20\n",
      "84/84 [==============================] - 19s 225ms/step - loss: 0.0159 - accuracy: 0.9959 - val_loss: 0.0116 - val_accuracy: 0.9955\n",
      "Epoch 18/20\n",
      "84/84 [==============================] - 19s 224ms/step - loss: 0.0142 - accuracy: 0.9951 - val_loss: 0.0107 - val_accuracy: 0.9955\n",
      "Epoch 19/20\n",
      "84/84 [==============================] - 19s 223ms/step - loss: 0.0140 - accuracy: 0.9947 - val_loss: 0.0100 - val_accuracy: 0.9955\n",
      "Epoch 20/20\n",
      "84/84 [==============================] - 19s 222ms/step - loss: 0.0141 - accuracy: 0.9955 - val_loss: 0.0092 - val_accuracy: 0.9970\n",
      "\n",
      "--- Evaluating on the new validation set ---\n",
      "21/21 [==============================] - 2s 71ms/step\n",
      "Accuracy: 0.9970014992503748\n",
      "              precision    recall  f1-score   support\n",
      "\n",
      "           0       0.00      0.00      0.00         0\n",
      "           1       1.00      1.00      1.00       667\n",
      "\n",
      "    accuracy                           1.00       667\n",
      "   macro avg       0.50      0.50      0.50       667\n",
      "weighted avg       1.00      1.00      1.00       667\n",
      "\n",
      "Updated LSTM model saved to enron_spam_lstm_model_updated_Phishing-Email-Dataset/Nigerian_Fraud.h5\n"
     ]
    },
    {
     "name": "stderr",
     "output_type": "stream",
     "text": [
      "C:\\Users\\fored\\miniconda3\\envs\\genreAI\\lib\\site-packages\\sklearn\\metrics\\_classification.py:1565: UndefinedMetricWarning: Recall is ill-defined and being set to 0.0 in labels with no true samples. Use `zero_division` parameter to control this behavior.\n",
      "  _warn_prf(average, modifier, f\"{metric.capitalize()} is\", len(result))\n",
      "C:\\Users\\fored\\miniconda3\\envs\\genreAI\\lib\\site-packages\\sklearn\\metrics\\_classification.py:1565: UndefinedMetricWarning: Recall is ill-defined and being set to 0.0 in labels with no true samples. Use `zero_division` parameter to control this behavior.\n",
      "  _warn_prf(average, modifier, f\"{metric.capitalize()} is\", len(result))\n",
      "C:\\Users\\fored\\miniconda3\\envs\\genreAI\\lib\\site-packages\\sklearn\\metrics\\_classification.py:1565: UndefinedMetricWarning: Recall is ill-defined and being set to 0.0 in labels with no true samples. Use `zero_division` parameter to control this behavior.\n",
      "  _warn_prf(average, modifier, f\"{metric.capitalize()} is\", len(result))\n"
     ]
    }
   ],
   "source": [
    "import pandas as pd\n",
    "import numpy as np\n",
    "from sklearn.model_selection import train_test_split\n",
    "from tensorflow.keras.preprocessing.sequence import pad_sequences\n",
    "from sklearn.metrics import accuracy_score, classification_report\n",
    "\n",
    "# --- Configuration ---\n",
    "NEW_DATASET_FILENAME = 'Phishing-Email-Dataset/Nigerian_Fraud.csv'  # <--- REPLACE WITH THE ACTUAL FILENAME\n",
    "TEXT_COLUMN = 'body'\n",
    "LABEL_COLUMN = 'label'\n",
    "MAX_LEN = 128  # Ensure this matches your previous setting\n",
    "NEW_LEARNING_RATE = 1e-5  # You can experiment with this\n",
    "EPOCHS_FINE_TUNE = 20      # Adjust as needed\n",
    "BATCH_SIZE_FINE_TUNE = 32  # Adjust as needed\n",
    "\n",
    "# --- Load the new dataset ---\n",
    "try:\n",
    "    new_df = pd.read_csv(NEW_DATASET_FILENAME)\n",
    "    print(f\"Loaded dataset: {NEW_DATASET_FILENAME} with {len(new_df)} samples.\")\n",
    "except FileNotFoundError:\n",
    "    print(f\"Error: File not found at path: {NEW_DATASET_FILENAME}\")\n",
    "    exit()\n",
    "\n",
    "# --- Prepare the new data ---\n",
    "if TEXT_COLUMN not in new_df.columns or LABEL_COLUMN not in new_df.columns:\n",
    "    print(f\"Error: '{TEXT_COLUMN}' or '{LABEL_COLUMN}' column not found in the dataset.\")\n",
    "    exit()\n",
    "\n",
    "new_texts = new_df[TEXT_COLUMN].astype(str).tolist() # Ensure text is string\n",
    "new_labels = new_df[LABEL_COLUMN].tolist()\n",
    "\n",
    "# Tokenize the new texts using the loaded tokenizer\n",
    "new_sequences = loaded_tokenizer.texts_to_sequences(new_texts)\n",
    "\n",
    "# Pad the new sequences\n",
    "new_padded_sequences = pad_sequences(new_sequences, maxlen=MAX_LEN, padding='post', truncating='post')\n",
    "\n",
    "new_labels = np.array(new_labels)\n",
    "\n",
    "print(\"Shape of new padded sequences:\", new_padded_sequences.shape)\n",
    "print(\"Shape of new labels:\", new_labels.shape)\n",
    "\n",
    "# --- Split the new data for validation ---\n",
    "X_new_train, X_new_val, y_new_train, y_new_val = train_test_split(\n",
    "    new_padded_sequences, new_labels, test_size=0.2, random_state=42\n",
    ")\n",
    "\n",
    "print(\"Shape of new training data:\", X_new_train.shape, y_new_train.shape)\n",
    "print(\"Shape of new validation data:\", X_new_val.shape, y_new_val.shape)\n",
    "\n",
    "# --- Set the learning rate for fine-tuning ---\n",
    "model.optimizer.learning_rate.assign(NEW_LEARNING_RATE)\n",
    "\n",
    "# --- Continue training the model ---\n",
    "print(\"\\n--- Starting Fine-tuning ---\")\n",
    "history_fine_tune = model.fit(\n",
    "    X_new_train, y_new_train,\n",
    "    epochs=EPOCHS_FINE_TUNE,\n",
    "    batch_size=BATCH_SIZE_FINE_TUNE,\n",
    "    validation_data=(X_new_val, y_new_val)\n",
    ")\n",
    "\n",
    "# --- Evaluate the updated model on the new validation set ---\n",
    "print(\"\\n--- Evaluating on the new validation set ---\")\n",
    "y_pred_probs_new = model.predict(X_new_val)\n",
    "y_pred_new = np.round(y_pred_probs_new).astype(int)\n",
    "\n",
    "print(\"Accuracy:\", accuracy_score(y_new_val, y_pred_new))\n",
    "print(classification_report(y_new_val, y_pred_new))\n",
    "\n",
    "# --- Optional: Save the updated model (you might want to use a new name) ---\n",
    "updated_model_save_path = f\"enron_spam_lstm_model_updated_{NEW_DATASET_FILENAME.replace('.csv', '')}.h5\"\n",
    "model.save(updated_model_save_path)\n",
    "print(f\"Updated LSTM model saved to {updated_model_save_path}\")"
   ]
  },
  {
   "cell_type": "code",
   "execution_count": null,
   "id": "4bec450c-28d6-4326-9c91-5e4c29d341ca",
   "metadata": {},
   "outputs": [],
   "source": []
  }
 ],
 "metadata": {
  "kernelspec": {
   "display_name": "Python 3 (ipykernel)",
   "language": "python",
   "name": "python3"
  },
  "language_info": {
   "codemirror_mode": {
    "name": "ipython",
    "version": 3
   },
   "file_extension": ".py",
   "mimetype": "text/x-python",
   "name": "python",
   "nbconvert_exporter": "python",
   "pygments_lexer": "ipython3",
   "version": "3.10.13"
  }
 },
 "nbformat": 4,
 "nbformat_minor": 5
}
